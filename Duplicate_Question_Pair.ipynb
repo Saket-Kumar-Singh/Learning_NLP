{
 "cells": [
  {
   "cell_type": "code",
   "execution_count": 1,
   "id": "ee01b12f-5588-43d0-8e64-3c56d3b747d8",
   "metadata": {},
   "outputs": [],
   "source": [
    "import pandas as pd\n",
    "import numpy as np\n",
    "from tqdm import tqdm \n",
    "\n",
    "tqdm.pandas()"
   ]
  },
  {
   "cell_type": "code",
   "execution_count": 2,
   "id": "2b6b0ddd-3ac9-42c5-b502-d1c84f823636",
   "metadata": {},
   "outputs": [
    {
     "name": "stderr",
     "output_type": "stream",
     "text": [
      "C:\\Users\\HP\\AppData\\Local\\Temp\\ipykernel_23276\\3667460292.py:1: DtypeWarning: Columns (7,8,9,10,11) have mixed types. Specify dtype option on import or set low_memory=False.\n",
      "  df = pd.read_csv(\"q_quora.csv\")\n"
     ]
    },
    {
     "data": {
      "text/html": [
       "<div>\n",
       "<style scoped>\n",
       "    .dataframe tbody tr th:only-of-type {\n",
       "        vertical-align: middle;\n",
       "    }\n",
       "\n",
       "    .dataframe tbody tr th {\n",
       "        vertical-align: top;\n",
       "    }\n",
       "\n",
       "    .dataframe thead th {\n",
       "        text-align: right;\n",
       "    }\n",
       "</style>\n",
       "<table border=\"1\" class=\"dataframe\">\n",
       "  <thead>\n",
       "    <tr style=\"text-align: right;\">\n",
       "      <th></th>\n",
       "      <th>id</th>\n",
       "      <th>qid1</th>\n",
       "      <th>qid2</th>\n",
       "      <th>question1</th>\n",
       "      <th>question2</th>\n",
       "      <th>is_duplicate</th>\n",
       "      <th>Unnamed: 6</th>\n",
       "      <th>Unnamed: 7</th>\n",
       "      <th>Unnamed: 8</th>\n",
       "      <th>Unnamed: 9</th>\n",
       "      <th>Unnamed: 10</th>\n",
       "      <th>Unnamed: 11</th>\n",
       "      <th>Unnamed: 12</th>\n",
       "    </tr>\n",
       "  </thead>\n",
       "  <tbody>\n",
       "    <tr>\n",
       "      <th>91063</th>\n",
       "      <td>91063</td>\n",
       "      <td>180803</td>\n",
       "      <td>180804</td>\n",
       "      <td>If I delete the messages on WhatsApp, is it al...</td>\n",
       "      <td>What are the signs in Whatsapp when they block...</td>\n",
       "      <td>0</td>\n",
       "      <td>NaN</td>\n",
       "      <td>NaN</td>\n",
       "      <td>NaN</td>\n",
       "      <td>NaN</td>\n",
       "      <td>NaN</td>\n",
       "      <td>NaN</td>\n",
       "      <td>NaN</td>\n",
       "    </tr>\n",
       "    <tr>\n",
       "      <th>191114</th>\n",
       "      <td>191114</td>\n",
       "      <td>377295</td>\n",
       "      <td>377296</td>\n",
       "      <td>What is Supply Chain Management?</td>\n",
       "      <td>What is a supply chain management?</td>\n",
       "      <td>1</td>\n",
       "      <td>NaN</td>\n",
       "      <td>NaN</td>\n",
       "      <td>NaN</td>\n",
       "      <td>NaN</td>\n",
       "      <td>NaN</td>\n",
       "      <td>NaN</td>\n",
       "      <td>NaN</td>\n",
       "    </tr>\n",
       "    <tr>\n",
       "      <th>352396</th>\n",
       "      <td>352396</td>\n",
       "      <td>690286</td>\n",
       "      <td>690287</td>\n",
       "      <td>I feel my abdomen full of liquid and sloshing ...</td>\n",
       "      <td>I just ate a full pack of Maryland chocolate c...</td>\n",
       "      <td>0</td>\n",
       "      <td>NaN</td>\n",
       "      <td>NaN</td>\n",
       "      <td>NaN</td>\n",
       "      <td>NaN</td>\n",
       "      <td>NaN</td>\n",
       "      <td>NaN</td>\n",
       "      <td>NaN</td>\n",
       "    </tr>\n",
       "    <tr>\n",
       "      <th>58448</th>\n",
       "      <td>58448</td>\n",
       "      <td>116268</td>\n",
       "      <td>116269</td>\n",
       "      <td>Could someone be able to qualify for the US Ar...</td>\n",
       "      <td>How can I redeem/sell uti mep (master equity p...</td>\n",
       "      <td>0</td>\n",
       "      <td>NaN</td>\n",
       "      <td>NaN</td>\n",
       "      <td>NaN</td>\n",
       "      <td>NaN</td>\n",
       "      <td>NaN</td>\n",
       "      <td>NaN</td>\n",
       "      <td>NaN</td>\n",
       "    </tr>\n",
       "    <tr>\n",
       "      <th>150573</th>\n",
       "      <td>150573</td>\n",
       "      <td>297871</td>\n",
       "      <td>297872</td>\n",
       "      <td>For an international student, which countries ...</td>\n",
       "      <td>Which countries offer free university educatio...</td>\n",
       "      <td>1</td>\n",
       "      <td>NaN</td>\n",
       "      <td>NaN</td>\n",
       "      <td>NaN</td>\n",
       "      <td>NaN</td>\n",
       "      <td>NaN</td>\n",
       "      <td>NaN</td>\n",
       "      <td>NaN</td>\n",
       "    </tr>\n",
       "  </tbody>\n",
       "</table>\n",
       "</div>"
      ],
      "text/plain": [
       "            id    qid1    qid2  \\\n",
       "91063    91063  180803  180804   \n",
       "191114  191114  377295  377296   \n",
       "352396  352396  690286  690287   \n",
       "58448    58448  116268  116269   \n",
       "150573  150573  297871  297872   \n",
       "\n",
       "                                                question1  \\\n",
       "91063   If I delete the messages on WhatsApp, is it al...   \n",
       "191114                   What is Supply Chain Management?   \n",
       "352396  I feel my abdomen full of liquid and sloshing ...   \n",
       "58448   Could someone be able to qualify for the US Ar...   \n",
       "150573  For an international student, which countries ...   \n",
       "\n",
       "                                                question2 is_duplicate  \\\n",
       "91063   What are the signs in Whatsapp when they block...            0   \n",
       "191114                 What is a supply chain management?            1   \n",
       "352396  I just ate a full pack of Maryland chocolate c...            0   \n",
       "58448   How can I redeem/sell uti mep (master equity p...            0   \n",
       "150573  Which countries offer free university educatio...            1   \n",
       "\n",
       "       Unnamed: 6 Unnamed: 7 Unnamed: 8 Unnamed: 9 Unnamed: 10 Unnamed: 11  \\\n",
       "91063         NaN        NaN        NaN        NaN         NaN         NaN   \n",
       "191114        NaN        NaN        NaN        NaN         NaN         NaN   \n",
       "352396        NaN        NaN        NaN        NaN         NaN         NaN   \n",
       "58448         NaN        NaN        NaN        NaN         NaN         NaN   \n",
       "150573        NaN        NaN        NaN        NaN         NaN         NaN   \n",
       "\n",
       "        Unnamed: 12  \n",
       "91063           NaN  \n",
       "191114          NaN  \n",
       "352396          NaN  \n",
       "58448           NaN  \n",
       "150573          NaN  "
      ]
     },
     "execution_count": 2,
     "metadata": {},
     "output_type": "execute_result"
    }
   ],
   "source": [
    "df = pd.read_csv(\"q_quora.csv\")\n",
    "df.sample(5)"
   ]
  },
  {
   "cell_type": "code",
   "execution_count": 3,
   "id": "43fb41bf-f9a6-49c2-ad4b-23a0e7f7dfaf",
   "metadata": {},
   "outputs": [],
   "source": [
    "df = df.iloc[:, 3:6]"
   ]
  },
  {
   "cell_type": "markdown",
   "id": "ae62e74b-1e1e-4575-bb64-318e8f78af12",
   "metadata": {},
   "source": [
    "<h1>Start with text Pre-processing</h1>"
   ]
  },
  {
   "cell_type": "code",
   "execution_count": 4,
   "id": "9ae60dbb-af7f-458a-8f53-d3eb8af05fc8",
   "metadata": {},
   "outputs": [
    {
     "data": {
      "text/html": [
       "<div>\n",
       "<style scoped>\n",
       "    .dataframe tbody tr th:only-of-type {\n",
       "        vertical-align: middle;\n",
       "    }\n",
       "\n",
       "    .dataframe tbody tr th {\n",
       "        vertical-align: top;\n",
       "    }\n",
       "\n",
       "    .dataframe thead th {\n",
       "        text-align: right;\n",
       "    }\n",
       "</style>\n",
       "<table border=\"1\" class=\"dataframe\">\n",
       "  <thead>\n",
       "    <tr style=\"text-align: right;\">\n",
       "      <th></th>\n",
       "      <th>question1</th>\n",
       "      <th>question2</th>\n",
       "      <th>is_duplicate</th>\n",
       "    </tr>\n",
       "  </thead>\n",
       "  <tbody>\n",
       "    <tr>\n",
       "      <th>389308</th>\n",
       "      <td>What is the equivalent Indian shoe size for th...</td>\n",
       "      <td>Is a size 8 1/2 in shoes pretty big for a woman?</td>\n",
       "      <td>0</td>\n",
       "    </tr>\n",
       "    <tr>\n",
       "      <th>273120</th>\n",
       "      <td>Where can I buy a ticket to Antarctica?</td>\n",
       "      <td>Where can I buy flight tickets for Antarctica?</td>\n",
       "      <td>1</td>\n",
       "    </tr>\n",
       "    <tr>\n",
       "      <th>392822</th>\n",
       "      <td>If a parallel universe does exist, which one d...</td>\n",
       "      <td>If an infinite number of parallel universes do...</td>\n",
       "      <td>0</td>\n",
       "    </tr>\n",
       "    <tr>\n",
       "      <th>2074</th>\n",
       "      <td>Why are \"bad boys\" so attractive?</td>\n",
       "      <td>Are girls attracted to boys as much as boys ar...</td>\n",
       "      <td>0</td>\n",
       "    </tr>\n",
       "    <tr>\n",
       "      <th>30611</th>\n",
       "      <td>What does it feel like to have histrionic pers...</td>\n",
       "      <td>What does histrionic personality disorder feel...</td>\n",
       "      <td>1</td>\n",
       "    </tr>\n",
       "  </tbody>\n",
       "</table>\n",
       "</div>"
      ],
      "text/plain": [
       "                                                question1  \\\n",
       "389308  What is the equivalent Indian shoe size for th...   \n",
       "273120            Where can I buy a ticket to Antarctica?   \n",
       "392822  If a parallel universe does exist, which one d...   \n",
       "2074                    Why are \"bad boys\" so attractive?   \n",
       "30611   What does it feel like to have histrionic pers...   \n",
       "\n",
       "                                                question2 is_duplicate  \n",
       "389308   Is a size 8 1/2 in shoes pretty big for a woman?            0  \n",
       "273120     Where can I buy flight tickets for Antarctica?            1  \n",
       "392822  If an infinite number of parallel universes do...            0  \n",
       "2074    Are girls attracted to boys as much as boys ar...            0  \n",
       "30611   What does histrionic personality disorder feel...            1  "
      ]
     },
     "execution_count": 4,
     "metadata": {},
     "output_type": "execute_result"
    }
   ],
   "source": [
    "df.sample(5)"
   ]
  },
  {
   "cell_type": "code",
   "execution_count": 5,
   "id": "92a4e8d5-a979-43cd-becb-8f602424d757",
   "metadata": {},
   "outputs": [],
   "source": [
    "def make_int(num):\n",
    "    try:\n",
    "        return int(num)\n",
    "    except:\n",
    "        return -1\n",
    "        \n",
    "df['is_duplicate'] = df['is_duplicate'].apply(make_int)"
   ]
  },
  {
   "cell_type": "code",
   "execution_count": 6,
   "id": "5ac9f898-fc67-4bea-89fb-5633805620d6",
   "metadata": {},
   "outputs": [
    {
     "data": {
      "text/plain": [
       "is_duplicate\n",
       " 0    254748\n",
       " 1    149267\n",
       "-1       336\n",
       "Name: count, dtype: int64"
      ]
     },
     "execution_count": 6,
     "metadata": {},
     "output_type": "execute_result"
    }
   ],
   "source": [
    "df['is_duplicate'].value_counts()"
   ]
  },
  {
   "cell_type": "code",
   "execution_count": 7,
   "id": "d597eeab-3316-40d8-9e62-dc7fba9bcfee",
   "metadata": {},
   "outputs": [
    {
     "data": {
      "text/plain": [
       "is_duplicate\n",
       "0    254748\n",
       "1    149267\n",
       "Name: count, dtype: int64"
      ]
     },
     "execution_count": 7,
     "metadata": {},
     "output_type": "execute_result"
    }
   ],
   "source": [
    "df = df.drop(df[df['is_duplicate'] == -1].index)\n",
    "df['is_duplicate'].value_counts()"
   ]
  },
  {
   "cell_type": "code",
   "execution_count": 8,
   "id": "5ac123d8-3dd5-425d-a65e-5b08e1fdd765",
   "metadata": {},
   "outputs": [
    {
     "data": {
      "text/plain": [
       "(404015, 3)"
      ]
     },
     "execution_count": 8,
     "metadata": {},
     "output_type": "execute_result"
    }
   ],
   "source": [
    "df.shape"
   ]
  },
  {
   "cell_type": "code",
   "execution_count": 9,
   "id": "b02a1ad9-da05-4cc5-b884-6bc8f07c1b13",
   "metadata": {},
   "outputs": [
    {
     "data": {
      "text/html": [
       "<div>\n",
       "<style scoped>\n",
       "    .dataframe tbody tr th:only-of-type {\n",
       "        vertical-align: middle;\n",
       "    }\n",
       "\n",
       "    .dataframe tbody tr th {\n",
       "        vertical-align: top;\n",
       "    }\n",
       "\n",
       "    .dataframe thead th {\n",
       "        text-align: right;\n",
       "    }\n",
       "</style>\n",
       "<table border=\"1\" class=\"dataframe\">\n",
       "  <thead>\n",
       "    <tr style=\"text-align: right;\">\n",
       "      <th></th>\n",
       "      <th>question1</th>\n",
       "      <th>question2</th>\n",
       "      <th>is_duplicate</th>\n",
       "    </tr>\n",
       "  </thead>\n",
       "  <tbody>\n",
       "    <tr>\n",
       "      <th>96451</th>\n",
       "      <td>Are there any European universities that have ...</td>\n",
       "      <td>If you couldn't pass on any money to your kids...</td>\n",
       "      <td>0</td>\n",
       "    </tr>\n",
       "    <tr>\n",
       "      <th>282810</th>\n",
       "      <td>What is the best interview questions asked by ...</td>\n",
       "      <td>What are some good interview questions to ask ...</td>\n",
       "      <td>0</td>\n",
       "    </tr>\n",
       "    <tr>\n",
       "      <th>280939</th>\n",
       "      <td>What is the expected KVPY 2016 SA cut off?</td>\n",
       "      <td>What is the expected cut off for KVPY SA 2016?</td>\n",
       "      <td>1</td>\n",
       "    </tr>\n",
       "    <tr>\n",
       "      <th>199867</th>\n",
       "      <td>What do Pakistani people think about uri attac...</td>\n",
       "      <td>What do Pakistani residents think of Uri attack?</td>\n",
       "      <td>1</td>\n",
       "    </tr>\n",
       "    <tr>\n",
       "      <th>68601</th>\n",
       "      <td>Why do many people believe that humans are at ...</td>\n",
       "      <td>Why aren't humans at the top of the food chain?</td>\n",
       "      <td>0</td>\n",
       "    </tr>\n",
       "  </tbody>\n",
       "</table>\n",
       "</div>"
      ],
      "text/plain": [
       "                                                question1  \\\n",
       "96451   Are there any European universities that have ...   \n",
       "282810  What is the best interview questions asked by ...   \n",
       "280939         What is the expected KVPY 2016 SA cut off?   \n",
       "199867  What do Pakistani people think about uri attac...   \n",
       "68601   Why do many people believe that humans are at ...   \n",
       "\n",
       "                                                question2  is_duplicate  \n",
       "96451   If you couldn't pass on any money to your kids...             0  \n",
       "282810  What are some good interview questions to ask ...             0  \n",
       "280939     What is the expected cut off for KVPY SA 2016?             1  \n",
       "199867   What do Pakistani residents think of Uri attack?             1  \n",
       "68601     Why aren't humans at the top of the food chain?             0  "
      ]
     },
     "execution_count": 9,
     "metadata": {},
     "output_type": "execute_result"
    }
   ],
   "source": [
    "df.sample(5)"
   ]
  },
  {
   "cell_type": "code",
   "execution_count": 10,
   "id": "3cfc5537-0277-4a78-86c5-431b28c40169",
   "metadata": {},
   "outputs": [
    {
     "data": {
      "text/plain": [
       "0"
      ]
     },
     "execution_count": 10,
     "metadata": {},
     "output_type": "execute_result"
    }
   ],
   "source": [
    "df.drop(df[df['question1'].isna()].index, inplace = True)\n",
    "df.drop(df[df['question2'].isna()].index, inplace = True)\n",
    "df['question2'].isna().sum()"
   ]
  },
  {
   "cell_type": "code",
   "execution_count": 11,
   "id": "e2790f1e-1edf-48f1-acb1-84b7b10572cd",
   "metadata": {},
   "outputs": [
    {
     "data": {
      "text/html": [
       "<div>\n",
       "<style scoped>\n",
       "    .dataframe tbody tr th:only-of-type {\n",
       "        vertical-align: middle;\n",
       "    }\n",
       "\n",
       "    .dataframe tbody tr th {\n",
       "        vertical-align: top;\n",
       "    }\n",
       "\n",
       "    .dataframe thead th {\n",
       "        text-align: right;\n",
       "    }\n",
       "</style>\n",
       "<table border=\"1\" class=\"dataframe\">\n",
       "  <thead>\n",
       "    <tr style=\"text-align: right;\">\n",
       "      <th></th>\n",
       "      <th>question1</th>\n",
       "      <th>question2</th>\n",
       "    </tr>\n",
       "  </thead>\n",
       "  <tbody>\n",
       "    <tr>\n",
       "      <th>0</th>\n",
       "      <td>What is the step by step guide to invest in sh...</td>\n",
       "      <td>What is the step by step guide to invest in sh...</td>\n",
       "    </tr>\n",
       "    <tr>\n",
       "      <th>1</th>\n",
       "      <td>What is the story of Kohinoor (Koh-i-Noor) Dia...</td>\n",
       "      <td>What would happen if the Indian government sto...</td>\n",
       "    </tr>\n",
       "    <tr>\n",
       "      <th>2</th>\n",
       "      <td>How can I increase the speed of my internet co...</td>\n",
       "      <td>How can Internet speed be increased by hacking...</td>\n",
       "    </tr>\n",
       "    <tr>\n",
       "      <th>3</th>\n",
       "      <td>Why am I mentally very lonely? How can I solve...</td>\n",
       "      <td>Find the remainder when [math]23^{24}[/math] i...</td>\n",
       "    </tr>\n",
       "    <tr>\n",
       "      <th>4</th>\n",
       "      <td>Which one dissolve in water quikly sugar, salt...</td>\n",
       "      <td>Which fish would survive in salt water?</td>\n",
       "    </tr>\n",
       "  </tbody>\n",
       "</table>\n",
       "</div>"
      ],
      "text/plain": [
       "                                           question1  \\\n",
       "0  What is the step by step guide to invest in sh...   \n",
       "1  What is the story of Kohinoor (Koh-i-Noor) Dia...   \n",
       "2  How can I increase the speed of my internet co...   \n",
       "3  Why am I mentally very lonely? How can I solve...   \n",
       "4  Which one dissolve in water quikly sugar, salt...   \n",
       "\n",
       "                                           question2  \n",
       "0  What is the step by step guide to invest in sh...  \n",
       "1  What would happen if the Indian government sto...  \n",
       "2  How can Internet speed be increased by hacking...  \n",
       "3  Find the remainder when [math]23^{24}[/math] i...  \n",
       "4            Which fish would survive in salt water?  "
      ]
     },
     "execution_count": 11,
     "metadata": {},
     "output_type": "execute_result"
    }
   ],
   "source": [
    "X = df.iloc[:, :2]\n",
    "y = df.iloc[:, 2]\n",
    "X.head(5)"
   ]
  },
  {
   "cell_type": "markdown",
   "id": "0058b446-7094-49c7-8326-99fa2c255382",
   "metadata": {},
   "source": [
    "<h2>Lower Casing</h2>"
   ]
  },
  {
   "cell_type": "code",
   "execution_count": 12,
   "id": "cd6bb8c1-8d1b-4df1-b058-6c16caaea079",
   "metadata": {},
   "outputs": [
    {
     "data": {
      "text/html": [
       "<div>\n",
       "<style scoped>\n",
       "    .dataframe tbody tr th:only-of-type {\n",
       "        vertical-align: middle;\n",
       "    }\n",
       "\n",
       "    .dataframe tbody tr th {\n",
       "        vertical-align: top;\n",
       "    }\n",
       "\n",
       "    .dataframe thead th {\n",
       "        text-align: right;\n",
       "    }\n",
       "</style>\n",
       "<table border=\"1\" class=\"dataframe\">\n",
       "  <thead>\n",
       "    <tr style=\"text-align: right;\">\n",
       "      <th></th>\n",
       "      <th>question1</th>\n",
       "      <th>question2</th>\n",
       "      <th>is_duplicate</th>\n",
       "    </tr>\n",
       "  </thead>\n",
       "  <tbody>\n",
       "    <tr>\n",
       "      <th>0</th>\n",
       "      <td>What is the step by step guide to invest in sh...</td>\n",
       "      <td>What is the step by step guide to invest in sh...</td>\n",
       "      <td>0</td>\n",
       "    </tr>\n",
       "    <tr>\n",
       "      <th>1</th>\n",
       "      <td>What is the story of Kohinoor (Koh-i-Noor) Dia...</td>\n",
       "      <td>What would happen if the Indian government sto...</td>\n",
       "      <td>0</td>\n",
       "    </tr>\n",
       "    <tr>\n",
       "      <th>2</th>\n",
       "      <td>How can I increase the speed of my internet co...</td>\n",
       "      <td>How can Internet speed be increased by hacking...</td>\n",
       "      <td>0</td>\n",
       "    </tr>\n",
       "    <tr>\n",
       "      <th>3</th>\n",
       "      <td>Why am I mentally very lonely? How can I solve...</td>\n",
       "      <td>Find the remainder when [math]23^{24}[/math] i...</td>\n",
       "      <td>0</td>\n",
       "    </tr>\n",
       "    <tr>\n",
       "      <th>4</th>\n",
       "      <td>Which one dissolve in water quikly sugar, salt...</td>\n",
       "      <td>Which fish would survive in salt water?</td>\n",
       "      <td>0</td>\n",
       "    </tr>\n",
       "  </tbody>\n",
       "</table>\n",
       "</div>"
      ],
      "text/plain": [
       "                                           question1  \\\n",
       "0  What is the step by step guide to invest in sh...   \n",
       "1  What is the story of Kohinoor (Koh-i-Noor) Dia...   \n",
       "2  How can I increase the speed of my internet co...   \n",
       "3  Why am I mentally very lonely? How can I solve...   \n",
       "4  Which one dissolve in water quikly sugar, salt...   \n",
       "\n",
       "                                           question2  is_duplicate  \n",
       "0  What is the step by step guide to invest in sh...             0  \n",
       "1  What would happen if the Indian government sto...             0  \n",
       "2  How can Internet speed be increased by hacking...             0  \n",
       "3  Find the remainder when [math]23^{24}[/math] i...             0  \n",
       "4            Which fish would survive in salt water?             0  "
      ]
     },
     "execution_count": 12,
     "metadata": {},
     "output_type": "execute_result"
    }
   ],
   "source": [
    "X['question1'] = X['question1'].apply(lambda x : x.lower())\n",
    "X['question2'] = X['question2'].apply(lambda x : x.lower())\n",
    "\n",
    "df.head(5)"
   ]
  },
  {
   "cell_type": "markdown",
   "id": "223e654c-4a62-4296-b02f-2b2d3d075d0e",
   "metadata": {},
   "source": [
    "<h2>Remove HTML tags and URLs</h2>\n",
    "<h4>Since there are no HTML tags and URLs we can move forward</h4>"
   ]
  },
  {
   "cell_type": "markdown",
   "id": "cfed8c05-b36f-490e-afae-f8800b3c79cb",
   "metadata": {},
   "source": [
    "<h2>Remove Punctuation marks</h2>"
   ]
  },
  {
   "cell_type": "code",
   "execution_count": 13,
   "id": "4d116ebd-8b93-4adb-9818-24f7a79bc403",
   "metadata": {},
   "outputs": [
    {
     "data": {
      "text/html": [
       "<div>\n",
       "<style scoped>\n",
       "    .dataframe tbody tr th:only-of-type {\n",
       "        vertical-align: middle;\n",
       "    }\n",
       "\n",
       "    .dataframe tbody tr th {\n",
       "        vertical-align: top;\n",
       "    }\n",
       "\n",
       "    .dataframe thead th {\n",
       "        text-align: right;\n",
       "    }\n",
       "</style>\n",
       "<table border=\"1\" class=\"dataframe\">\n",
       "  <thead>\n",
       "    <tr style=\"text-align: right;\">\n",
       "      <th></th>\n",
       "      <th>question1</th>\n",
       "      <th>question2</th>\n",
       "    </tr>\n",
       "  </thead>\n",
       "  <tbody>\n",
       "    <tr>\n",
       "      <th>0</th>\n",
       "      <td>what is the step by step guide to invest in sh...</td>\n",
       "      <td>what is the step by step guide to invest in sh...</td>\n",
       "    </tr>\n",
       "    <tr>\n",
       "      <th>1</th>\n",
       "      <td>what is the story of kohinoor  koh i noor  dia...</td>\n",
       "      <td>what would happen if the indian government sto...</td>\n",
       "    </tr>\n",
       "    <tr>\n",
       "      <th>2</th>\n",
       "      <td>how can i increase the speed of my internet co...</td>\n",
       "      <td>how can internet speed be increased by hacking...</td>\n",
       "    </tr>\n",
       "    <tr>\n",
       "      <th>3</th>\n",
       "      <td>why am i mentally very lonely? how can i solve...</td>\n",
       "      <td>find the remainder when  math 23  24   math  i...</td>\n",
       "    </tr>\n",
       "    <tr>\n",
       "      <th>4</th>\n",
       "      <td>which one dissolve in water quikly sugar  salt...</td>\n",
       "      <td>which fish would survive in salt water?</td>\n",
       "    </tr>\n",
       "    <tr>\n",
       "      <th>5</th>\n",
       "      <td>astrology  i am a capricorn sun cap moon and c...</td>\n",
       "      <td>i m a triple capricorn  sun  moon and ascendan...</td>\n",
       "    </tr>\n",
       "    <tr>\n",
       "      <th>6</th>\n",
       "      <td>should i buy tiago?</td>\n",
       "      <td>what keeps childern active and far from phone ...</td>\n",
       "    </tr>\n",
       "    <tr>\n",
       "      <th>7</th>\n",
       "      <td>how can i be a good geologist?</td>\n",
       "      <td>what should i do to be a great geologist?</td>\n",
       "    </tr>\n",
       "    <tr>\n",
       "      <th>8</th>\n",
       "      <td>when do you use シ instead of し?</td>\n",
       "      <td>when do you use     instead of  and ?</td>\n",
       "    </tr>\n",
       "    <tr>\n",
       "      <th>9</th>\n",
       "      <td>motorola  company   can i hack my charter moto...</td>\n",
       "      <td>how do i hack motorola dcx3400 for free internet?</td>\n",
       "    </tr>\n",
       "  </tbody>\n",
       "</table>\n",
       "</div>"
      ],
      "text/plain": [
       "                                           question1  \\\n",
       "0  what is the step by step guide to invest in sh...   \n",
       "1  what is the story of kohinoor  koh i noor  dia...   \n",
       "2  how can i increase the speed of my internet co...   \n",
       "3  why am i mentally very lonely? how can i solve...   \n",
       "4  which one dissolve in water quikly sugar  salt...   \n",
       "5  astrology  i am a capricorn sun cap moon and c...   \n",
       "6                                should i buy tiago?   \n",
       "7                     how can i be a good geologist?   \n",
       "8                    when do you use シ instead of し?   \n",
       "9  motorola  company   can i hack my charter moto...   \n",
       "\n",
       "                                           question2  \n",
       "0  what is the step by step guide to invest in sh...  \n",
       "1  what would happen if the indian government sto...  \n",
       "2  how can internet speed be increased by hacking...  \n",
       "3  find the remainder when  math 23  24   math  i...  \n",
       "4            which fish would survive in salt water?  \n",
       "5  i m a triple capricorn  sun  moon and ascendan...  \n",
       "6  what keeps childern active and far from phone ...  \n",
       "7          what should i do to be a great geologist?  \n",
       "8              when do you use     instead of  and ?  \n",
       "9  how do i hack motorola dcx3400 for free internet?  "
      ]
     },
     "execution_count": 13,
     "metadata": {},
     "output_type": "execute_result"
    }
   ],
   "source": [
    "import string\n",
    "\n",
    "punctuation_marks = string.punctuation\n",
    "\n",
    "# We excluded '!' & '@' from punctuations as it could give useful information. \n",
    "punctuation_marks = punctuation_marks[1:20] + punctuation_marks[21:]\n",
    "\n",
    "def remove_punctuations(text):\n",
    "    return text.translate(str.maketrans(punctuation_marks, ' '*len(punctuation_marks)))\n",
    "\n",
    "X['question1'] = X['question1'].apply(remove_punctuations)\n",
    "X['question2'] = X['question2'].apply(remove_punctuations)\n",
    "X.head(10)"
   ]
  },
  {
   "cell_type": "markdown",
   "id": "6f51191c-bbcc-4790-96e2-ba72a9c2cffb",
   "metadata": {},
   "source": [
    "<h2>Chat Word Removal</h2>\n",
    "\n",
    "<h4>Not much required as didn't find any</h4>"
   ]
  },
  {
   "cell_type": "code",
   "execution_count": 14,
   "id": "79496cf6-d48c-4ab2-8211-c2b2d348bcec",
   "metadata": {},
   "outputs": [],
   "source": [
    "# import csv\n",
    "# import re\n",
    "\n",
    "# from tqdm import tqdm \n",
    "\n",
    "# tqdm.pandas()\n",
    "\n",
    "# # Git hub link for the same can be found here : https://github.com/rishabhverma17/sms_slang_translator\n",
    "# def chat_word_converter(user_string):\n",
    "#     user_string = user_string.split(\" \")\n",
    "#     j = 0\n",
    "#     for _str in user_string:\n",
    "#         # File path which consists of Abbreviations.\n",
    "#         fileName = \"slang.txt\"\n",
    "#         # File Access mode [Read Mode]\n",
    "#         accessMode = \"r\"\n",
    "#         with open(fileName, accessMode) as myCSVfile:\n",
    "#             # Reading file as CSV with delimiter as \"=\", so that abbreviation are stored in row[0] and phrases in row[1]\n",
    "#             dataFromFile = csv.reader(myCSVfile, delimiter=\"=\")\n",
    "#             # Removing Special Characters.\n",
    "#             _str = re.sub('[^a-zA-Z0-9-_.]', '', _str)\n",
    "#             for row in dataFromFile:\n",
    "#                 # Check if selected word matches short forms[LHS] in text file.\n",
    "#                 if _str.upper() == row[0]:\n",
    "#                     # If match found replace it with its Abbreviation in text file.\n",
    "#                     user_string[j] = row[1]\n",
    "#             myCSVfile.close()\n",
    "#         j = j + 1\n",
    "#     # Replacing commas with spaces for final output.\n",
    "#     return ' '.join(user_string).lower()\n",
    "\n",
    "# # print(chat_word_converter(\"Hi bro ltns\"))\n",
    "\n",
    "# X['question1'] = X['question1'].progress_apply(chat_word_converter)\n",
    "# X['question2'] = X['question2'].progress_apply(chat_word_converter)\n",
    "# X.sample(5)"
   ]
  },
  {
   "cell_type": "markdown",
   "id": "88e17805-724f-4494-96b7-f0d3b4492547",
   "metadata": {},
   "source": [
    "<h2>Spelling checking</h2>"
   ]
  },
  {
   "cell_type": "code",
   "execution_count": 15,
   "id": "d8e24362-6ef8-4586-ad52-3bf5ef208615",
   "metadata": {},
   "outputs": [
    {
     "name": "stderr",
     "output_type": "stream",
     "text": [
      "D:\\Leaning_NLP\\myenv\\Lib\\site-packages\\spello\\model.py:301: UserWarning: This model was saved on spell<1.3.0. As such due to a bug in previous versions, none of customisations made to the config at the time of training were saved along with the model. It is recommended to load the model, apply all required customizations to config and save it again. E.g.\n",
      "\n",
      "from spello.model import SpellCorrectionModel \n",
      "sp = SpellCorrectionModel(language='en')  \n",
      "sp.load('/home/ubuntu/model.pkl')\n",
      "sp.config.min_length_for_spellcorrection = 4 # default is 3\n",
      "sp.config.max_length_for_spellcorrection = 12 # default is 15\n",
      "sp.save(model_save_dir='/home/ubuntu/')\n",
      "\n",
      "After this the model will load without any warnings\n",
      "\n",
      "  warnings.warn(\"This model was saved on spell<1.3.0. As such due to a bug in previous versions, \"\n"
     ]
    },
    {
     "data": {
      "text/plain": [
       "<spello.model.SpellCorrectionModel at 0x214b04b7200>"
      ]
     },
     "execution_count": 15,
     "metadata": {},
     "output_type": "execute_result"
    }
   ],
   "source": [
    "from spello.model import SpellCorrectionModel\n",
    "import pickle\n",
    "sp = SpellCorrectionModel(language = \"en\")\n",
    "sp.load(\"en.pkl\")"
   ]
  },
  {
   "cell_type": "code",
   "execution_count": null,
   "id": "00809b44-86a2-428b-8d12-f029a26448bc",
   "metadata": {},
   "outputs": [
    {
     "name": "stderr",
     "output_type": "stream",
     "text": [
      " 33%|████████████████████████                                                  | 131633/404012 [02:22<05:42, 794.73it/s]"
     ]
    }
   ],
   "source": [
    "def spell_correction(text):\n",
    "    p = sp.spell_correct(text)\n",
    "    return p['spell_corrected_text']\n",
    "\n",
    "X['question1'] = X['question1'].progress_apply(spell_correction)\n",
    "X['question2'] = X['question2'].progress_apply(spell_correction)"
   ]
  },
  {
   "cell_type": "code",
   "execution_count": null,
   "id": "4263afcd-c9f5-4d7d-a1e4-8c738d6c1df6",
   "metadata": {},
   "outputs": [],
   "source": [
    "X.head(10)"
   ]
  },
  {
   "cell_type": "markdown",
   "id": "d4d65a34-4bb4-497c-8a25-71a50bbb43ab",
   "metadata": {},
   "source": [
    "<h2>Remove Stop Words</h2>"
   ]
  },
  {
   "cell_type": "code",
   "execution_count": null,
   "id": "d3f1dcc3-f2d2-4aeb-a7cb-930e5e4264f4",
   "metadata": {},
   "outputs": [],
   "source": [
    "import nltk\n",
    "from nltk.corpus import stopwords\n",
    "nltk.download('stopwords')\n",
    "en = stopwords.words(\"english\")"
   ]
  },
  {
   "cell_type": "code",
   "execution_count": null,
   "id": "086efb60-c498-4202-ac24-1b207b13ac98",
   "metadata": {},
   "outputs": [],
   "source": [
    "# Except not we take all the stop words as not will play an in important role in determining sentiment of the questions\n",
    "\n",
    "new_en = []\n",
    "for word in en:\n",
    "    if word not in  [\"not\", \"isn't\"] :\n",
    "        new_en.append(word)\n",
    "\n",
    "en = new_en"
   ]
  },
  {
   "cell_type": "code",
   "execution_count": null,
   "id": "cabf59d4-c2c2-4826-9e4e-ae0f3873cfba",
   "metadata": {
    "scrolled": true
   },
   "outputs": [],
   "source": [
    "en"
   ]
  },
  {
   "cell_type": "code",
   "execution_count": null,
   "id": "ac4c93be-1f41-4274-8cf2-6e915337f37d",
   "metadata": {},
   "outputs": [],
   "source": [
    "def remove_stopwords(text):\n",
    "    new_text = []\n",
    "    words = text.split(\" \")\n",
    "    for word in words:\n",
    "        if word not in en:\n",
    "            new_text.append(word)\n",
    "    new_text = new_text[:]      \n",
    "    return \" \".join(new_text)     "
   ]
  },
  {
   "cell_type": "code",
   "execution_count": null,
   "id": "c7cd5f74-74f0-4083-8c0f-0bd0cf4e0da2",
   "metadata": {},
   "outputs": [],
   "source": [
    "X['question1'] = X['question1'].progress_apply(remove_stopwords)\n",
    "X['question2'] = X['question2'].progress_apply(remove_stopwords)"
   ]
  },
  {
   "cell_type": "code",
   "execution_count": null,
   "id": "29d61eac-d03f-4c75-b1e2-62c50de636c9",
   "metadata": {},
   "outputs": [],
   "source": [
    "X.head(10)"
   ]
  },
  {
   "cell_type": "markdown",
   "id": "85a5fc09-a58d-4fe6-84be-4e25c10ea3fc",
   "metadata": {},
   "source": [
    "<h2>Handeling Emojis</h2>\n",
    "\n",
    "<h4>There are no emojis so not needed</h4>"
   ]
  },
  {
   "cell_type": "markdown",
   "id": "48e7e1c4-bad9-451c-b31c-c406fa8bb5b9",
   "metadata": {},
   "source": [
    "<h2>Tokenization</h2>\n"
   ]
  },
  {
   "cell_type": "code",
   "execution_count": null,
   "id": "a34dc531-6e4c-4e9a-9556-2b05995a43c0",
   "metadata": {
    "scrolled": true
   },
   "outputs": [],
   "source": [
    "import spacy\n",
    "\n",
    "nlp = spacy.load(\"en_core_web_sm\")\n",
    "\n",
    "def tokenizer(text):\n",
    "    tokens = nlp(text)\n",
    "    rtn = []\n",
    "    for token in tokens:\n",
    "        rtn.append(str(token))\n",
    "    return rtn"
   ]
  },
  {
   "cell_type": "code",
   "execution_count": null,
   "id": "9189bc72-464d-4dfd-a5b6-d94f97d8ae4b",
   "metadata": {
    "scrolled": true
   },
   "outputs": [],
   "source": [
    "X['question1'] = X['question1'].progress_apply(tokenizer)\n",
    "X['question2'] = X['question2'].progress_apply(tokenizer)"
   ]
  },
  {
   "cell_type": "code",
   "execution_count": null,
   "id": "77238062-9f64-4c8b-a789-d0d3c35c07ed",
   "metadata": {},
   "outputs": [],
   "source": [
    "X.head(10)"
   ]
  },
  {
   "cell_type": "markdown",
   "id": "7281b4ce-3cfd-402e-bcfc-fc71dc053873",
   "metadata": {},
   "source": [
    "<h4>I tried using spacy but it was taking a lot of time, first let's do it with split method. First '?' and '!' needs to be seperated. </h4>"
   ]
  },
  {
   "cell_type": "code",
   "execution_count": null,
   "id": "7aae66e1-9514-41ad-a666-96c94333058d",
   "metadata": {},
   "outputs": [],
   "source": [
    "import re\n",
    "\n",
    "def tokenizer(text):\n",
    "    text = re.findall(r'[^?]+|[^!]+|\\!|\\?', text)\n",
    "    lst = []\n",
    "    for txt in text:\n",
    "        txt = re.split(r'\\s+', txt)\n",
    "        for w in txt:\n",
    "            lst.append(w)\n",
    "    return lst"
   ]
  },
  {
   "cell_type": "code",
   "execution_count": null,
   "id": "607ceac3-e116-42c0-92d3-9ef39621b388",
   "metadata": {},
   "outputs": [],
   "source": [
    "X['question1'] = X['question1'].progress_apply(tokenizer)\n",
    "X['question2'] = X['question2'].progress_apply(tokenizer)"
   ]
  },
  {
   "cell_type": "code",
   "execution_count": null,
   "id": "8d251d5c-db41-4533-8835-5de001d911aa",
   "metadata": {},
   "outputs": [],
   "source": [
    "X.head(10)"
   ]
  },
  {
   "cell_type": "markdown",
   "id": "dd5b5029-6bf0-46f2-9a30-05c9650c72f4",
   "metadata": {},
   "source": [
    "<h2>Stemming</h2>"
   ]
  },
  {
   "cell_type": "code",
   "execution_count": null,
   "id": "ab48e79b-1c90-4e60-a95c-f60a95b317cc",
   "metadata": {},
   "outputs": [],
   "source": [
    "from nltk.stem import PorterStemmer\n",
    "\n",
    "ps = PorterStemmer()\n",
    "\n",
    "def stemmer(words):\n",
    "    rtn = []\n",
    "    for word in words:\n",
    "        rtn.append(ps.stem(word))\n",
    "\n",
    "    return rtn"
   ]
  },
  {
   "cell_type": "code",
   "execution_count": null,
   "id": "2d80b45c-d43e-41d3-8a38-0a61a1c73d90",
   "metadata": {},
   "outputs": [],
   "source": [
    "X['question1'] = X['question1'].progress_apply(stemmer)\n",
    "X['question2'] = X['question2'].progress_apply(stemmer)"
   ]
  },
  {
   "cell_type": "code",
   "execution_count": null,
   "id": "4cacf15e-49ac-4966-9593-115bc1d93ad6",
   "metadata": {},
   "outputs": [],
   "source": [
    "X.head(10)"
   ]
  },
  {
   "cell_type": "markdown",
   "id": "47b684e2-bdd7-4d87-88b4-bb51fd0d64e3",
   "metadata": {},
   "source": [
    "<h1>Now Since we have done Pre-Preocessing, Now word vectorisation</h1>"
   ]
  },
  {
   "cell_type": "markdown",
   "id": "86c7cb6e-3bbd-4baa-86d6-df4868633550",
   "metadata": {},
   "source": [
    "<h2>We can use BagOfWords</h2>"
   ]
  },
  {
   "cell_type": "code",
   "execution_count": null,
   "id": "e130d2bd-f2f9-4b7a-b726-ec510ceedf46",
   "metadata": {},
   "outputs": [],
   "source": [
    "from sklearn.model_selection import train_test_split\n",
    "\n",
    "X_train, X_test, y_train, y_test = train_test_split(X, y, test_size = 0.2)"
   ]
  },
  {
   "cell_type": "code",
   "execution_count": null,
   "id": "1733093f-e540-4995-8ba4-50232580adc3",
   "metadata": {},
   "outputs": [],
   "source": [
    "# import and instantiate the vectorizer\n",
    "from sklearn.feature_extraction.text import CountVectorizer\n",
    "cv = CountVectorizer()\n",
    "\n",
    "# vectorize the lemmatized text\n",
    "X = cv.fit_transform(df.processed_text)\n",
    "print(X)"
   ]
  },
  {
   "cell_type": "code",
   "execution_count": null,
   "id": "dcc71694-1ce6-4f4d-8e8f-9afe10bad352",
   "metadata": {},
   "outputs": [],
   "source": []
  }
 ],
 "metadata": {
  "kernelspec": {
   "display_name": "Python 3 (ipykernel)",
   "language": "python",
   "name": "python3"
  },
  "language_info": {
   "codemirror_mode": {
    "name": "ipython",
    "version": 3
   },
   "file_extension": ".py",
   "mimetype": "text/x-python",
   "name": "python",
   "nbconvert_exporter": "python",
   "pygments_lexer": "ipython3",
   "version": "3.12.1"
  }
 },
 "nbformat": 4,
 "nbformat_minor": 5
}
