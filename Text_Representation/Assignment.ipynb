{
 "cells": [
  {
   "cell_type": "code",
   "execution_count": 116,
   "id": "af52e538-8654-45fe-97cd-b0c16b3ab058",
   "metadata": {},
   "outputs": [],
   "source": [
    "import pandas as pd\n",
    "import sklearn\n",
    "from tqdm import tqdm\n",
    "import numpy as np\n",
    "tqdm.pandas()"
   ]
  },
  {
   "cell_type": "code",
   "execution_count": 74,
   "id": "0b85f09c-a3b8-4a75-b59e-b393eff7214c",
   "metadata": {},
   "outputs": [
    {
     "data": {
      "text/html": [
       "<div>\n",
       "<style scoped>\n",
       "    .dataframe tbody tr th:only-of-type {\n",
       "        vertical-align: middle;\n",
       "    }\n",
       "\n",
       "    .dataframe tbody tr th {\n",
       "        vertical-align: top;\n",
       "    }\n",
       "\n",
       "    .dataframe thead th {\n",
       "        text-align: right;\n",
       "    }\n",
       "</style>\n",
       "<table border=\"1\" class=\"dataframe\">\n",
       "  <thead>\n",
       "    <tr style=\"text-align: right;\">\n",
       "      <th></th>\n",
       "      <th>Unnamed: 0</th>\n",
       "      <th>original_language</th>\n",
       "      <th>original_title</th>\n",
       "      <th>overview</th>\n",
       "      <th>genre</th>\n",
       "    </tr>\n",
       "  </thead>\n",
       "  <tbody>\n",
       "    <tr>\n",
       "      <th>1148</th>\n",
       "      <td>1148</td>\n",
       "      <td>en</td>\n",
       "      <td>Treasure Planet</td>\n",
       "      <td>['space', 'galleon', 'cabin', 'boy', 'jim', 'h...</td>\n",
       "      <td>['Adventure', 'Animation', 'Family', 'Fantasy'...</td>\n",
       "    </tr>\n",
       "    <tr>\n",
       "      <th>1906</th>\n",
       "      <td>1906</td>\n",
       "      <td>ru</td>\n",
       "      <td>Русский ковчег</td>\n",
       "      <td>['ghost', 'french', 'marqui', 'wander', 'winte...</td>\n",
       "      <td>['Drama', 'Fantasy', 'History']</td>\n",
       "    </tr>\n",
       "    <tr>\n",
       "      <th>1483</th>\n",
       "      <td>1483</td>\n",
       "      <td>it</td>\n",
       "      <td>Lo chiamavano Jeeg Robot</td>\n",
       "      <td>['come', 'contact', 'radioact', 'wast', 'small...</td>\n",
       "      <td>['Drama', 'Action', 'Comedy']</td>\n",
       "    </tr>\n",
       "    <tr>\n",
       "      <th>1361</th>\n",
       "      <td>1361</td>\n",
       "      <td>en</td>\n",
       "      <td>To Sir, with Love</td>\n",
       "      <td>['british', 'guianes', 'engin', 'start', 'job'...</td>\n",
       "      <td>['Drama']</td>\n",
       "    </tr>\n",
       "    <tr>\n",
       "      <th>623</th>\n",
       "      <td>623</td>\n",
       "      <td>en</td>\n",
       "      <td>Guy Ritchie's The Covenant</td>\n",
       "      <td>['war', 'afghanistan', 'local', 'interpret', '...</td>\n",
       "      <td>['War', 'Action', 'Thriller']</td>\n",
       "    </tr>\n",
       "  </tbody>\n",
       "</table>\n",
       "</div>"
      ],
      "text/plain": [
       "      Unnamed: 0 original_language              original_title  \\\n",
       "1148        1148                en             Treasure Planet   \n",
       "1906        1906                ru              Русский ковчег   \n",
       "1483        1483                it    Lo chiamavano Jeeg Robot   \n",
       "1361        1361                en           To Sir, with Love   \n",
       "623          623                en  Guy Ritchie's The Covenant   \n",
       "\n",
       "                                               overview  \\\n",
       "1148  ['space', 'galleon', 'cabin', 'boy', 'jim', 'h...   \n",
       "1906  ['ghost', 'french', 'marqui', 'wander', 'winte...   \n",
       "1483  ['come', 'contact', 'radioact', 'wast', 'small...   \n",
       "1361  ['british', 'guianes', 'engin', 'start', 'job'...   \n",
       "623   ['war', 'afghanistan', 'local', 'interpret', '...   \n",
       "\n",
       "                                                  genre  \n",
       "1148  ['Adventure', 'Animation', 'Family', 'Fantasy'...  \n",
       "1906                    ['Drama', 'Fantasy', 'History']  \n",
       "1483                      ['Drama', 'Action', 'Comedy']  \n",
       "1361                                          ['Drama']  \n",
       "623                       ['War', 'Action', 'Thriller']  "
      ]
     },
     "execution_count": 74,
     "metadata": {},
     "output_type": "execute_result"
    }
   ],
   "source": [
    "df = pd.read_csv(\"D:\\\\Leaning_NLP\\\\tmdb_data.csv\")\n",
    "df.sample(5)"
   ]
  },
  {
   "cell_type": "code",
   "execution_count": 75,
   "id": "697b7b75-e280-46a4-b357-225fa1f638aa",
   "metadata": {},
   "outputs": [
    {
     "name": "stdout",
     "output_type": "stream",
     "text": [
      "53852\n",
      "10143\n"
     ]
    }
   ],
   "source": [
    "corpus = []\n",
    "new_overview = []\n",
    "from collections import Counter\n",
    "for document in df['overview']:\n",
    "    document = document[2:-2]\n",
    "    document = document.split(\"', '\")\n",
    "    new_overview.append(document)\n",
    "    for word in document:\n",
    "        corpus.append(word)\n",
    "\n",
    "df['overview'] = new_overview\n",
    "# df.head(10)\n",
    "print(len(corpus))\n",
    "\n",
    "c = Counter(corpus)\n",
    "\n",
    "corpus = set(corpus)\n",
    "print(len(corpus))\n",
    "# # print(corpus)"
   ]
  },
  {
   "cell_type": "code",
   "execution_count": 105,
   "id": "fc681f75-24af-4ce2-bf39-af352f056f8d",
   "metadata": {},
   "outputs": [],
   "source": [
    "mp = {}\n",
    "for i, tup in enumerate(c.most_common(100)):\n",
    "    mp[tup[0]] = i"
   ]
  },
  {
   "cell_type": "code",
   "execution_count": 103,
   "id": "a81bf045-fce2-4840-83df-fd2576811368",
   "metadata": {},
   "outputs": [
    {
     "name": "stdout",
     "output_type": "stream",
     "text": [
      "[('life', 384), ('find', 320), ('young', 307), ('one', 267), ('famili', 258), ('live', 256), ('world', 252), ('new', 251), ('love', 220), ('man', 214), ('take', 211), ('two', 211), ('becom', 202), ('year', 199), ('friend', 186), ('stori', 182), ('war', 169), ('get', 162), (' ', 160), ('must', 160), ('’s', 147), ('home', 140), ('forc', 138), ('woman', 137), ('tri', 136), ('begin', 133), ('father', 132), ('help', 132), ('meet', 132), ('school', 131), ('girl', 130), ('make', 129), ('time', 128), ('—', 128), ('mother', 125), ('day', 124), ('turn', 124), ('not', 122), ('set', 121), ('discov', 121), ('mysteri', 120), ('way', 117), ('boy', 117), ('work', 115), ('daughter', 107), ('wife', 106), ('back', 105), ('fall', 105), ('son', 103), ('soon', 103), ('s', 99), ('town', 97), ('return', 96), ('first', 96), ('come', 95), ('fight', 94), ('human', 93), ('name', 92), ('old', 91), ('murder', 90), ('power', 89), ('death', 85), ('save', 83), ('decid', 83), ('three', 83), ('group', 83), ('kill', 82), ('citi', 82), ('leav', 81), ('struggl', 80), ('learn', 80), ('start', 79), ('follow', 79), ('lead', 79), ('crime', 77), ('go', 77), ('togeth', 76), ('attempt', 75), ('end', 75), ('escap', 75), ('order', 75), ('danger', 74), ('face', 74), ('peopl', 73), ('team', 73), ('true', 72), ('marri', 70), ('small', 70), ('journey', 70), ('chang', 70), ('prison', 69), ('american', 69), ('film', 69), ('men', 68), ('–', 68), ('even', 68), ('polic', 68), ('brother', 67), ('event', 66), ('howev', 65)]\n"
     ]
    }
   ],
   "source": [
    "print(c.most_common(100))\n",
    "p = [item[0] for item in c.most_common(100)]"
   ]
  },
  {
   "cell_type": "markdown",
   "id": "424f4508-5b80-4144-b9c1-5b56ce10075a",
   "metadata": {},
   "source": [
    "<h2>One-Hot-Encoding</h2>\n",
    "<h4>We take only first 100 most_common</h4>"
   ]
  },
  {
   "cell_type": "code",
   "execution_count": 123,
   "id": "228e5d25-df92-4461-93cf-7eed70fe2ce1",
   "metadata": {},
   "outputs": [
    {
     "name": "stderr",
     "output_type": "stream",
     "text": [
      "100%|███████████████████████████████████████████████████████████████████████████████████████████████| 2000/2000 [00:00<00:00, 3721.25it/s]\n"
     ]
    }
   ],
   "source": [
    "\n",
    "def one_hot_encoding(document):\n",
    "    lst = []\n",
    "    for word in document:\n",
    "        temp = [0 for i in range(100)]\n",
    "        try:\n",
    "            temp[mp[word]] = 1 \n",
    "        except:\n",
    "            pass\n",
    "        finally:\n",
    "            lst.append(temp)\n",
    "    return np.array(lst)\n",
    "\n",
    "lst = np.array(df['overview'].progress_apply(one_hot_encoding))"
   ]
  },
  {
   "cell_type": "markdown",
   "id": "b3107aa7-acfa-4838-89ce-ad1f099988b1",
   "metadata": {},
   "source": [
    "<h2>Bag Of Words</h2>"
   ]
  },
  {
   "cell_type": "code",
   "execution_count": null,
   "id": "5c3b28d3-1b61-4e46-a7dc-83b4d047b48b",
   "metadata": {},
   "outputs": [],
   "source": []
  }
 ],
 "metadata": {
  "kernelspec": {
   "display_name": "Python 3 (ipykernel)",
   "language": "python",
   "name": "python3"
  },
  "language_info": {
   "codemirror_mode": {
    "name": "ipython",
    "version": 3
   },
   "file_extension": ".py",
   "mimetype": "text/x-python",
   "name": "python",
   "nbconvert_exporter": "python",
   "pygments_lexer": "ipython3",
   "version": "3.12.1"
  }
 },
 "nbformat": 4,
 "nbformat_minor": 5
}
