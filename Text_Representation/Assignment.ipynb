{
 "cells": [
  {
   "cell_type": "code",
   "execution_count": 4,
   "id": "af52e538-8654-45fe-97cd-b0c16b3ab058",
   "metadata": {},
   "outputs": [],
   "source": [
    "import pandas as pd\n",
    "import sklearn"
   ]
  },
  {
   "cell_type": "code",
   "execution_count": 74,
   "id": "0b85f09c-a3b8-4a75-b59e-b393eff7214c",
   "metadata": {},
   "outputs": [
    {
     "data": {
      "text/html": [
       "<div>\n",
       "<style scoped>\n",
       "    .dataframe tbody tr th:only-of-type {\n",
       "        vertical-align: middle;\n",
       "    }\n",
       "\n",
       "    .dataframe tbody tr th {\n",
       "        vertical-align: top;\n",
       "    }\n",
       "\n",
       "    .dataframe thead th {\n",
       "        text-align: right;\n",
       "    }\n",
       "</style>\n",
       "<table border=\"1\" class=\"dataframe\">\n",
       "  <thead>\n",
       "    <tr style=\"text-align: right;\">\n",
       "      <th></th>\n",
       "      <th>Unnamed: 0</th>\n",
       "      <th>original_language</th>\n",
       "      <th>original_title</th>\n",
       "      <th>overview</th>\n",
       "      <th>genre</th>\n",
       "    </tr>\n",
       "  </thead>\n",
       "  <tbody>\n",
       "    <tr>\n",
       "      <th>1148</th>\n",
       "      <td>1148</td>\n",
       "      <td>en</td>\n",
       "      <td>Treasure Planet</td>\n",
       "      <td>['space', 'galleon', 'cabin', 'boy', 'jim', 'h...</td>\n",
       "      <td>['Adventure', 'Animation', 'Family', 'Fantasy'...</td>\n",
       "    </tr>\n",
       "    <tr>\n",
       "      <th>1906</th>\n",
       "      <td>1906</td>\n",
       "      <td>ru</td>\n",
       "      <td>Русский ковчег</td>\n",
       "      <td>['ghost', 'french', 'marqui', 'wander', 'winte...</td>\n",
       "      <td>['Drama', 'Fantasy', 'History']</td>\n",
       "    </tr>\n",
       "    <tr>\n",
       "      <th>1483</th>\n",
       "      <td>1483</td>\n",
       "      <td>it</td>\n",
       "      <td>Lo chiamavano Jeeg Robot</td>\n",
       "      <td>['come', 'contact', 'radioact', 'wast', 'small...</td>\n",
       "      <td>['Drama', 'Action', 'Comedy']</td>\n",
       "    </tr>\n",
       "    <tr>\n",
       "      <th>1361</th>\n",
       "      <td>1361</td>\n",
       "      <td>en</td>\n",
       "      <td>To Sir, with Love</td>\n",
       "      <td>['british', 'guianes', 'engin', 'start', 'job'...</td>\n",
       "      <td>['Drama']</td>\n",
       "    </tr>\n",
       "    <tr>\n",
       "      <th>623</th>\n",
       "      <td>623</td>\n",
       "      <td>en</td>\n",
       "      <td>Guy Ritchie's The Covenant</td>\n",
       "      <td>['war', 'afghanistan', 'local', 'interpret', '...</td>\n",
       "      <td>['War', 'Action', 'Thriller']</td>\n",
       "    </tr>\n",
       "  </tbody>\n",
       "</table>\n",
       "</div>"
      ],
      "text/plain": [
       "      Unnamed: 0 original_language              original_title  \\\n",
       "1148        1148                en             Treasure Planet   \n",
       "1906        1906                ru              Русский ковчег   \n",
       "1483        1483                it    Lo chiamavano Jeeg Robot   \n",
       "1361        1361                en           To Sir, with Love   \n",
       "623          623                en  Guy Ritchie's The Covenant   \n",
       "\n",
       "                                               overview  \\\n",
       "1148  ['space', 'galleon', 'cabin', 'boy', 'jim', 'h...   \n",
       "1906  ['ghost', 'french', 'marqui', 'wander', 'winte...   \n",
       "1483  ['come', 'contact', 'radioact', 'wast', 'small...   \n",
       "1361  ['british', 'guianes', 'engin', 'start', 'job'...   \n",
       "623   ['war', 'afghanistan', 'local', 'interpret', '...   \n",
       "\n",
       "                                                  genre  \n",
       "1148  ['Adventure', 'Animation', 'Family', 'Fantasy'...  \n",
       "1906                    ['Drama', 'Fantasy', 'History']  \n",
       "1483                      ['Drama', 'Action', 'Comedy']  \n",
       "1361                                          ['Drama']  \n",
       "623                       ['War', 'Action', 'Thriller']  "
      ]
     },
     "execution_count": 74,
     "metadata": {},
     "output_type": "execute_result"
    }
   ],
   "source": [
    "df = pd.read_csv(\"D:\\\\Leaning_NLP\\\\tmdb_data.csv\")\n",
    "df.sample(5)"
   ]
  },
  {
   "cell_type": "code",
   "execution_count": 75,
   "id": "697b7b75-e280-46a4-b357-225fa1f638aa",
   "metadata": {},
   "outputs": [
    {
     "name": "stdout",
     "output_type": "stream",
     "text": [
      "53852\n",
      "10143\n"
     ]
    }
   ],
   "source": [
    "corpus = []\n",
    "new_overview = []\n",
    "from collections import Counter\n",
    "for document in df['overview']:\n",
    "    document = document[2:-2]\n",
    "    document = document.split(\"', '\")\n",
    "    new_overview.append(document)\n",
    "    for word in document:\n",
    "        corpus.append(word)\n",
    "\n",
    "df['overview'] = new_overview\n",
    "# df.head(10)\n",
    "print(len(corpus))\n",
    "\n",
    "c = Counter(corpus)\n",
    "\n",
    "\n",
    "corpus = set(corpus)\n",
    "print(len(corpus))\n",
    "# # print(corpus)"
   ]
  },
  {
   "cell_type": "code",
   "execution_count": 51,
   "id": "fc681f75-24af-4ce2-bf39-af352f056f8d",
   "metadata": {},
   "outputs": [],
   "source": [
    "mp = {}\n",
    "for i, word in enumerate(corpus):\n",
    "    mp[word] = i"
   ]
  },
  {
   "cell_type": "code",
   "execution_count": 98,
   "id": "a81bf045-fce2-4840-83df-fd2576811368",
   "metadata": {},
   "outputs": [
    {
     "name": "stdout",
     "output_type": "stream",
     "text": [
      "[('life', 384), ('find', 320), ('young', 307), ('one', 267), ('famili', 258), ('live', 256), ('world', 252), ('new', 251), ('love', 220), ('man', 214)]\n"
     ]
    }
   ],
   "source": [
    "print(c.most_common(10))\n",
    "p = [item[0] for item in c.most_common(10)]"
   ]
  },
  {
   "cell_type": "code",
   "execution_count": null,
   "id": "fe20885f-a4df-4614-a350-a80815c193cc",
   "metadata": {},
   "outputs": [],
   "source": []
  }
 ],
 "metadata": {
  "kernelspec": {
   "display_name": "Python 3 (ipykernel)",
   "language": "python",
   "name": "python3"
  },
  "language_info": {
   "codemirror_mode": {
    "name": "ipython",
    "version": 3
   },
   "file_extension": ".py",
   "mimetype": "text/x-python",
   "name": "python",
   "nbconvert_exporter": "python",
   "pygments_lexer": "ipython3",
   "version": "3.12.1"
  }
 },
 "nbformat": 4,
 "nbformat_minor": 5
}
